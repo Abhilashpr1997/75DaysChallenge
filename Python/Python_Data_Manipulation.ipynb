{
 "cells": [
  {
   "cell_type": "markdown",
   "id": "156d20ed",
   "metadata": {},
   "source": [
    "Introduction:\n",
    "\n",
    "Pandas is a powerful Python library specifically designed for data manipulation and analysis.\n",
    "It provides a high-performance, easy-to-use data structures (Series and DataFrames) and tools for data cleaning, transformation, and exploration.\n",
    "Pandas is widely used in various fields, including data science, machine learning, and finance."
   ]
  },
  {
   "cell_type": "markdown",
   "id": "e67fe494",
   "metadata": {},
   "source": [
    "### Series:\n",
    "\n",
    "One-dimensional labeled array holding data of any data type (numeric, text, categorical, etc.).\n",
    "Supports various operations like indexing, slicing, filtering, and mathematical calculations."
   ]
  },
  {
   "cell_type": "code",
   "execution_count": 1,
   "id": "32f4865a",
   "metadata": {},
   "outputs": [
    {
     "name": "stdout",
     "output_type": "stream",
     "text": [
      "0    1\n",
      "1    2\n",
      "2    3\n",
      "3    4\n",
      "4    5\n",
      "dtype: int64\n"
     ]
    }
   ],
   "source": [
    "import pandas as pd\n",
    "\n",
    "s = pd.Series([1, 2, 3, 4, 5])\n",
    "print(s)"
   ]
  },
  {
   "cell_type": "markdown",
   "id": "79180d8e",
   "metadata": {},
   "source": [
    "### DataFrame:\n",
    "\n",
    "Two-dimensional labeled data structure with rows and columns.\n",
    "Can store heterogeneous data types within a column.\n",
    "Supports various operations like selection, filtering, grouping, merging, and pivoting."
   ]
  },
  {
   "cell_type": "code",
   "execution_count": 2,
   "id": "5a59de56",
   "metadata": {},
   "outputs": [
    {
     "name": "stdout",
     "output_type": "stream",
     "text": [
      "      name  age         city\n",
      "0    Alice   25     New York\n",
      "1      Bob   30  Los Angeles\n",
      "2  Charlie   35      Chicago\n"
     ]
    }
   ],
   "source": [
    " data = {'name': ['Alice', 'Bob', 'Charlie'],\n",
    "         'age': [25, 30, 35],\n",
    "         'city': ['New York', 'Los Angeles', 'Chicago']}\n",
    "df = pd.DataFrame(data)\n",
    "print(df)"
   ]
  },
  {
   "cell_type": "markdown",
   "id": "127a747f",
   "metadata": {},
   "source": [
    "## Data Manipulation Techniques:"
   ]
  },
  {
   "cell_type": "markdown",
   "id": "b37e1e75",
   "metadata": {},
   "source": [
    "### Selection and Filtering:\n",
    "\n",
    "Accessing specific rows or columns using labels or indices.\n",
    "Filtering data based on conditions using boolean masks."
   ]
  },
  {
   "cell_type": "code",
   "execution_count": 3,
   "id": "93c38b7f",
   "metadata": {},
   "outputs": [
    {
     "name": "stdout",
     "output_type": "stream",
     "text": [
      "      name  age     city\n",
      "2  Charlie   35  Chicago\n"
     ]
    }
   ],
   "source": [
    "# Select rows with age greater than 30\n",
    "df_filtered = df[df['age'] > 30]\n",
    "print(df_filtered)"
   ]
  },
  {
   "cell_type": "markdown",
   "id": "af2b88e8",
   "metadata": {},
   "source": [
    "### Aggregation:\n",
    "\n",
    "Calculating summary statistics like mean, median, sum, count, etc.\n",
    "Grouping data by one or more columns and applying aggregation functions."
   ]
  },
  {
   "cell_type": "code",
   "execution_count": 4,
   "id": "dc89435e",
   "metadata": {},
   "outputs": [
    {
     "name": "stdout",
     "output_type": "stream",
     "text": [
      "30.0\n"
     ]
    }
   ],
   "source": [
    "# Calculate average age\n",
    "average_age = df['age'].mean()\n",
    "print(average_age)"
   ]
  },
  {
   "cell_type": "markdown",
   "id": "b91ac44f",
   "metadata": {},
   "source": [
    "### Transformation:\n",
    "\n",
    "Applying functions to data to create new columns or modify existing ones.\n",
    "Using built-in functions like apply, map, and replace."
   ]
  },
  {
   "cell_type": "code",
   "execution_count": 5,
   "id": "1aeda18c",
   "metadata": {},
   "outputs": [
    {
     "name": "stdout",
     "output_type": "stream",
     "text": [
      "      name  age         city  age_in_years\n",
      "0    Alice   25     New York            25\n",
      "1      Bob   30  Los Angeles            30\n",
      "2  Charlie   35      Chicago            35\n"
     ]
    }
   ],
   "source": [
    "# Create a new column for age in years\n",
    "df['age_in_years'] = df['age']\n",
    "print(df)"
   ]
  },
  {
   "cell_type": "markdown",
   "id": "595ef6d8",
   "metadata": {},
   "source": [
    "### Joining and Merging:\n",
    "\n",
    "Combining data from multiple DataFrames based on common keys.\n",
    "Using different join types (inner, outer, left, right)."
   ]
  },
  {
   "cell_type": "code",
   "execution_count": 6,
   "id": "34936b1d",
   "metadata": {},
   "outputs": [
    {
     "name": "stdout",
     "output_type": "stream",
     "text": [
      "   key value1 value2\n",
      "0    2      b      d\n",
      "1    3      c      e\n"
     ]
    }
   ],
   "source": [
    "# Merge two DataFrames based on a common column\n",
    "df1 = pd.DataFrame({'key': [1, 2, 3], 'value1': ['a', 'b', 'c']})\n",
    "df2 = pd.DataFrame({'key': [2, 3, 4], 'value2': ['d', 'e', 'f']})\n",
    "merged_df = pd.merge(df1, df2, on='key')\n",
    "print(merged_df)"
   ]
  },
  {
   "cell_type": "markdown",
   "id": "ed79d988",
   "metadata": {},
   "source": [
    "### Reshaping:\n",
    "\n",
    "Pivoting data to change its structure (e.g., from long to wide format).\n",
    "Using functions like pivot_table and melt."
   ]
  },
  {
   "cell_type": "code",
   "execution_count": 7,
   "id": "e6666f17",
   "metadata": {},
   "outputs": [
    {
     "name": "stdout",
     "output_type": "stream",
     "text": [
      "name         Alice   Bob  Charlie\n",
      "city                             \n",
      "Chicago        NaN   NaN     35.0\n",
      "Los Angeles    NaN  30.0      NaN\n",
      "New York      25.0   NaN      NaN\n"
     ]
    }
   ],
   "source": [
    "# Pivot the DataFrame to create a wide format\n",
    "pivoted_df = df.pivot_table(index='city', columns='name', values='age')\n",
    "print(pivoted_df)"
   ]
  },
  {
   "cell_type": "code",
   "execution_count": null,
   "id": "02db08b2",
   "metadata": {},
   "outputs": [],
   "source": []
  }
 ],
 "metadata": {
  "kernelspec": {
   "display_name": "Python 3 (ipykernel)",
   "language": "python",
   "name": "python3"
  },
  "language_info": {
   "codemirror_mode": {
    "name": "ipython",
    "version": 3
   },
   "file_extension": ".py",
   "mimetype": "text/x-python",
   "name": "python",
   "nbconvert_exporter": "python",
   "pygments_lexer": "ipython3",
   "version": "3.11.5"
  }
 },
 "nbformat": 4,
 "nbformat_minor": 5
}
