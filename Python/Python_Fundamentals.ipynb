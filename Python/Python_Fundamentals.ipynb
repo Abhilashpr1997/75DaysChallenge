{
 "cells": [
  {
   "cell_type": "markdown",
   "id": "d8f17459",
   "metadata": {},
   "source": [
    "### Hello, World!"
   ]
  },
  {
   "cell_type": "code",
   "execution_count": 1,
   "id": "873f7e9c",
   "metadata": {},
   "outputs": [
    {
     "name": "stdout",
     "output_type": "stream",
     "text": [
      "Hello, World!\n"
     ]
    }
   ],
   "source": [
    "print(\"Hello, World!\")"
   ]
  },
  {
   "cell_type": "markdown",
   "id": "be03481f",
   "metadata": {},
   "source": [
    "### Variables and Data Types"
   ]
  },
  {
   "cell_type": "code",
   "execution_count": 2,
   "id": "20754475",
   "metadata": {},
   "outputs": [
    {
     "name": "stdout",
     "output_type": "stream",
     "text": [
      "<class 'str'>\n",
      "<class 'int'>\n",
      "<class 'bool'>\n"
     ]
    }
   ],
   "source": [
    "# Variables\n",
    "name = \"Alice\"\n",
    "age = 30\n",
    "is_student = True\n",
    "\n",
    "# Data Types\n",
    "print(type(name))  # Output: <class 'str'>\n",
    "print(type(age))   # Output: <class 'int'>\n",
    "print(type(is_student))  # Output: <class 'bool'>"
   ]
  },
  {
   "cell_type": "markdown",
   "id": "a37c85b7",
   "metadata": {},
   "source": [
    "### Arithmetic Operations"
   ]
  },
  {
   "cell_type": "code",
   "execution_count": 3,
   "id": "e53c019e",
   "metadata": {},
   "outputs": [
    {
     "name": "stdout",
     "output_type": "stream",
     "text": [
      "15\n",
      "5\n",
      "50\n",
      "2.0\n",
      "2\n",
      "0\n",
      "100000\n"
     ]
    }
   ],
   "source": [
    "x = 10\n",
    "y = 5\n",
    "\n",
    "# Addition\n",
    "result = x + y\n",
    "print(result)  # Output: 15\n",
    "\n",
    "# Subtraction\n",
    "result = x - y\n",
    "print(result)  # Output: 5\n",
    "\n",
    "# Multiplication\n",
    "result = x * y\n",
    "print(result)  # Output: 50\n",
    "\n",
    "# Division\n",
    "result = x / y\n",
    "print(result)  # Output: 2.0\n",
    "\n",
    "# Floor division (integer division)\n",
    "result = x // y\n",
    "print(result)  # Output: 2\n",
    "\n",
    "# Modulus (remainder)\n",
    "result = x % y\n",
    "print(result)  # Output: 0\n",
    "\n",
    "# Exponentiation\n",
    "result = x ** y\n",
    "print(result)  # Output: 100000"
   ]
  },
  {
   "cell_type": "markdown",
   "id": "d28570c9",
   "metadata": {},
   "source": [
    "### Conditional Statements"
   ]
  },
  {
   "cell_type": "code",
   "execution_count": 4,
   "id": "2914af5c",
   "metadata": {},
   "outputs": [
    {
     "name": "stdout",
     "output_type": "stream",
     "text": [
      "You are an adult.\n"
     ]
    }
   ],
   "source": [
    "age = 18\n",
    "\n",
    "if age >= 18:\n",
    "    print(\"You are an adult.\")\n",
    "else:\n",
    "    print(\"You are a minor.\")"
   ]
  },
  {
   "cell_type": "markdown",
   "id": "024647f1",
   "metadata": {},
   "source": [
    "### Loops"
   ]
  },
  {
   "cell_type": "code",
   "execution_count": 5,
   "id": "87b4d453",
   "metadata": {},
   "outputs": [
    {
     "name": "stdout",
     "output_type": "stream",
     "text": [
      "0\n",
      "1\n",
      "2\n",
      "3\n",
      "4\n",
      "0\n",
      "1\n",
      "2\n",
      "3\n",
      "4\n"
     ]
    }
   ],
   "source": [
    "# For loop\n",
    "for i in range(5):\n",
    "    print(i)  # Output: 0 1 2 3 4\n",
    "\n",
    "# While loop\n",
    "count = 0\n",
    "while count < 5:\n",
    "    print(count)\n",
    "    count += 1"
   ]
  },
  {
   "cell_type": "markdown",
   "id": "7b147147",
   "metadata": {},
   "source": [
    "### Functions"
   ]
  },
  {
   "cell_type": "code",
   "execution_count": 6,
   "id": "d1525137",
   "metadata": {},
   "outputs": [
    {
     "name": "stdout",
     "output_type": "stream",
     "text": [
      "Hello, Bob!\n"
     ]
    }
   ],
   "source": [
    "def greet(name):\n",
    "    print(\"Hello, \" + name + \"!\")\n",
    "\n",
    "greet(\"Bob\")  # Output: Hello, Bob!"
   ]
  },
  {
   "cell_type": "markdown",
   "id": "dbf25255",
   "metadata": {},
   "source": [
    "### Lists"
   ]
  },
  {
   "cell_type": "code",
   "execution_count": 7,
   "id": "4b6a07b7",
   "metadata": {},
   "outputs": [
    {
     "name": "stdout",
     "output_type": "stream",
     "text": [
      "apple\n",
      "orange\n",
      "['apple', 'grape', 'orange']\n",
      "['apple', 'grape', 'orange', 'mango']\n",
      "['apple', 'orange', 'mango']\n"
     ]
    }
   ],
   "source": [
    "fruits = [\"apple\", \"banana\", \"orange\"]\n",
    "\n",
    "# Accessing elements\n",
    "print(fruits[0])  # Output: apple\n",
    "print(fruits[-1])  # Output: orange\n",
    "\n",
    "# Modifying elements\n",
    "fruits[1] = \"grape\"\n",
    "print(fruits)  # Output: ['apple', 'grape', 'orange']\n",
    "\n",
    "# Adding elements\n",
    "fruits.append(\"mango\")\n",
    "print(fruits)  # Output: ['apple', 'grape', 'orange', 'mango']\n",
    "\n",
    "# Removing elements\n",
    "fruits.remove(\"grape\")\n",
    "print(fruits)  # Output: ['apple', 'grape', 'orange', 'mango']"
   ]
  },
  {
   "cell_type": "code",
   "execution_count": null,
   "id": "c1994046",
   "metadata": {},
   "outputs": [],
   "source": []
  }
 ],
 "metadata": {
  "kernelspec": {
   "display_name": "Python 3 (ipykernel)",
   "language": "python",
   "name": "python3"
  },
  "language_info": {
   "codemirror_mode": {
    "name": "ipython",
    "version": 3
   },
   "file_extension": ".py",
   "mimetype": "text/x-python",
   "name": "python",
   "nbconvert_exporter": "python",
   "pygments_lexer": "ipython3",
   "version": "3.11.5"
  }
 },
 "nbformat": 4,
 "nbformat_minor": 5
}
