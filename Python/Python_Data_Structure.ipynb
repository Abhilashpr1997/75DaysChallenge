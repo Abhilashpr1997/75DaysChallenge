{
 "cells": [
  {
   "cell_type": "markdown",
   "id": "40631d8d",
   "metadata": {},
   "source": [
    "### Lists\n",
    "Ordered collection of elements: Elements can be of any data type.\n",
    "Mutable: Elements can be added, removed, or modified.\n",
    "Indexing: Elements can be accessed using their index (starting from 0).\n",
    "Slicing: Portions of the list can be extracted.\n",
    "Methods: append, insert, remove, pop, sort, reverse, and more."
   ]
  },
  {
   "cell_type": "code",
   "execution_count": 1,
   "id": "fb84ebf2",
   "metadata": {},
   "outputs": [
    {
     "name": "stdout",
     "output_type": "stream",
     "text": [
      "hello\n"
     ]
    }
   ],
   "source": [
    "my_list = [1, \"hello\", 3.14]\n",
    "my_list.append(True)\n",
    "print(my_list[1])  # Output: hello"
   ]
  },
  {
   "cell_type": "markdown",
   "id": "7af2f28c",
   "metadata": {},
   "source": [
    "### Tuples\n",
    "Ordered collection of elements: Similar to lists, but immutable.\n",
    "Used for: Protecting data from accidental modification, creating constants, and serving as keys in dictionaries.\n",
    "Methods: count and index."
   ]
  },
  {
   "cell_type": "code",
   "execution_count": 2,
   "id": "1bb91ad8",
   "metadata": {},
   "outputs": [],
   "source": [
    "my_tuple = (1, 2, 3)\n",
    "# my_tuple[0] = 4  # This will raise an error"
   ]
  },
  {
   "cell_type": "markdown",
   "id": "a2e7a3d5",
   "metadata": {},
   "source": [
    "### Dictionaries\n",
    "Unordered collection of key-value pairs: Keys must be unique and immutable (often strings or numbers).\n",
    "Used for: Storing and retrieving data based on specific keys.\n",
    "Methods: keys, values, items, get, update, and more."
   ]
  },
  {
   "cell_type": "code",
   "execution_count": 3,
   "id": "03b038c5",
   "metadata": {},
   "outputs": [
    {
     "name": "stdout",
     "output_type": "stream",
     "text": [
      "Alice\n"
     ]
    }
   ],
   "source": [
    "my_dict = {\"name\": \"Alice\", \"age\": 30}\n",
    "print(my_dict[\"name\"])  # Output: Alice"
   ]
  },
  {
   "cell_type": "markdown",
   "id": "db5bd2ba",
   "metadata": {},
   "source": [
    "### Sets\n",
    "Unordered collection of unique elements: Elements must be immutable.\n",
    "Used for: Membership testing, removing duplicates, and mathematical operations like union, intersection, and difference.\n",
    "Methods: add, remove, union, intersection, difference, and more."
   ]
  },
  {
   "cell_type": "code",
   "execution_count": 4,
   "id": "333e5a64",
   "metadata": {},
   "outputs": [
    {
     "name": "stdout",
     "output_type": "stream",
     "text": [
      "{1, 2, 3}\n"
     ]
    }
   ],
   "source": [
    "my_set = {1, 2, 3, 2}  # Duplicate elements are automatically removed\n",
    "print(my_set)  # Output: {1, 2, 3}"
   ]
  },
  {
   "cell_type": "markdown",
   "id": "32f3a331",
   "metadata": {},
   "source": [
    "#### Frozen Sets\n",
    "Immutable version of sets: Used for creating constant sets.\n",
    "Methods: Similar to sets, but cannot be modified."
   ]
  },
  {
   "cell_type": "code",
   "execution_count": null,
   "id": "03fb271c",
   "metadata": {},
   "outputs": [],
   "source": []
  }
 ],
 "metadata": {
  "kernelspec": {
   "display_name": "Python 3 (ipykernel)",
   "language": "python",
   "name": "python3"
  },
  "language_info": {
   "codemirror_mode": {
    "name": "ipython",
    "version": 3
   },
   "file_extension": ".py",
   "mimetype": "text/x-python",
   "name": "python",
   "nbconvert_exporter": "python",
   "pygments_lexer": "ipython3",
   "version": "3.11.5"
  }
 },
 "nbformat": 4,
 "nbformat_minor": 5
}
