{
 "cells": [
  {
   "cell_type": "markdown",
   "id": "bdfc820c",
   "metadata": {},
   "source": [
    "# Exercise 1  \n",
    "Write Python code that prints your name, student number and email address.  \n",
    "An example runs of the program:  "
   ]
  },
  {
   "cell_type": "code",
   "execution_count": 1,
   "id": "6eb1b926",
   "metadata": {},
   "outputs": [
    {
     "name": "stdout",
     "output_type": "stream",
     "text": [
      "Name: Abhilash PR\n",
      "Sl No: 2\n",
      "Mail ID: rajmannara@gmail.com\n"
     ]
    }
   ],
   "source": [
    "print(\"Name: Abhilash PR\")\n",
    "print(\"Sl No: 2\")\n",
    "print(\"Mail ID: rajmannara@gmail.com\")"
   ]
  },
  {
   "cell_type": "markdown",
   "id": "da8841de",
   "metadata": {},
   "source": [
    "# Exercise 2 \n",
    "Write Python code that prints your name, student number and email address using escape sequences.     \n",
    "An example runs of the program: "
   ]
  },
  {
   "cell_type": "code",
   "execution_count": 2,
   "id": "adb7b1f7",
   "metadata": {},
   "outputs": [
    {
     "name": "stdout",
     "output_type": "stream",
     "text": [
      "Name :\tAbhilash PR \n",
      "Sl No : 2 \n",
      "Mail ID: rajmannara@gmail.com\n"
     ]
    }
   ],
   "source": [
    "print(\"Name :\\tAbhilash PR \\nSl No : 2 \\nMail ID: rajmannara@gmail.com\")"
   ]
  },
  {
   "cell_type": "markdown",
   "id": "477a2d9c",
   "metadata": {},
   "source": [
    "# Exercise 3 \n",
    "Write Python code that add, subtract, multiply and divide the two numbers. You can use the two numbers 14 and 7.  An example run of the program: "
   ]
  },
  {
   "cell_type": "code",
   "execution_count": 3,
   "id": "ffed36ef",
   "metadata": {},
   "outputs": [
    {
     "name": "stdout",
     "output_type": "stream",
     "text": [
      "Enter the number: 14\n",
      "Enter the number: 7\n",
      "Select operations: \n",
      "Add-1\tSub-2\tMul-3\tDiv-4\n",
      "2\n",
      "14 - 7 = 7\n"
     ]
    }
   ],
   "source": [
    "x=eval(input(\"Enter the number: \"))\n",
    "y=eval(input(\"Enter the number: \"))\n",
    "sign=eval(input(\"Select operations: \"\"\\nAdd-1\\tSub-2\\tMul-3\\tDiv-4\\n\"))\n",
    "if(sign==1):\n",
    "    z=x+y\n",
    "    print(x,\"+\",y,\"=\",z)\n",
    "elif(sign==2):\n",
    "    z=x-y\n",
    "    print(x,\"-\",y,\"=\",z)\n",
    "elif(sign==3):\n",
    "    z=x*y\n",
    "    print(x,\"*\",y,\"=\",z)\n",
    "else:\n",
    "    z=x/y\n",
    "    print(x,\"/\",y,\"=\",z)"
   ]
  },
  {
   "cell_type": "markdown",
   "id": "a397f776",
   "metadata": {},
   "source": [
    "# Exercise 4\n",
    "Write Python code that displays the numbers from 1 to 5 as steps. \n",
    "An example runs of the program: \n"
   ]
  },
  {
   "cell_type": "code",
   "execution_count": 4,
   "id": "ce73d8af",
   "metadata": {},
   "outputs": [
    {
     "name": "stdout",
     "output_type": "stream",
     "text": [
      "1\n",
      "2\n",
      "3\n",
      "4\n",
      "5\n"
     ]
    }
   ],
   "source": [
    "\n",
    "for i in range(1,6):\n",
    "    print(i)"
   ]
  },
  {
   "cell_type": "markdown",
   "id": "f1cd8bf3",
   "metadata": {},
   "source": [
    "# Exercise 5\n",
    "Write Python code that outputs the following sentence (including the quotation marks and line break) to the screen: \n",
    "An example runs of the program:  \n",
    "\"SDK\" stands for \"Software Development Kit\", whereas \n",
    "\"IDE\" stands for \"Integrated Development Environment\". \n"
   ]
  },
  {
   "cell_type": "code",
   "execution_count": 5,
   "id": "a3254fe5",
   "metadata": {},
   "outputs": [
    {
     "name": "stdout",
     "output_type": "stream",
     "text": [
      "\"SDK\" stands for \"Software Development Kit\",whereas\n",
      "\"IDE\" stands for \"Integrated Development Environment\".\n"
     ]
    }
   ],
   "source": [
    "print(\"\\\"SDK\\\" stands for \\\"Software Development Kit\\\",whereas\\n\\\"IDE\\\" stands for \\\"Integrated Development Environment\\\".\")"
   ]
  },
  {
   "cell_type": "markdown",
   "id": "6bced27b",
   "metadata": {},
   "source": [
    "# Exercise 6\n",
    "Practice and check the output\n",
    "print(\"python is an \\\"awesome\\\" language.\")\n",
    "print(\"python\\n\\t2023\")\n",
    "print('I\\'m from Entri.\\b')\n",
    "print(\"\\65\")\n",
    "print(\"\\x65\")\n",
    "print(\"Entri\", \"2023\", sep=\"\\n\")\n",
    "print(\"Entri\", \"2023\", sep=\"\\b\")\n",
    "print(\"Entri\", \"2023\", sep=\"*\", end=\"\\b\\b\\b\\b\")"
   ]
  },
  {
   "cell_type": "code",
   "execution_count": 6,
   "id": "d9e0a454",
   "metadata": {
    "scrolled": true
   },
   "outputs": [
    {
     "name": "stdout",
     "output_type": "stream",
     "text": [
      "\"python is an \"awesome\"language\n"
     ]
    }
   ],
   "source": [
    "print(\"\\\"python is an \\\"awesome\\\"language\")"
   ]
  },
  {
   "cell_type": "code",
   "execution_count": 7,
   "id": "e72f6652",
   "metadata": {},
   "outputs": [
    {
     "name": "stdout",
     "output_type": "stream",
     "text": [
      "python\n",
      "\t2023\n"
     ]
    }
   ],
   "source": [
    "print(\"python\\n\\t2023\") #2023 printed after next line and a tab space"
   ]
  },
  {
   "cell_type": "code",
   "execution_count": 8,
   "id": "2abcf176",
   "metadata": {},
   "outputs": [
    {
     "name": "stdout",
     "output_type": "stream",
     "text": [
      "i'm from Entry.\b\n"
     ]
    }
   ],
   "source": [
    "print('i\\'m from Entry.\\b')#remove the value before \"\\b\"."
   ]
  },
  {
   "cell_type": "code",
   "execution_count": 9,
   "id": "4f15d274",
   "metadata": {},
   "outputs": [
    {
     "name": "stdout",
     "output_type": "stream",
     "text": [
      "5\n"
     ]
    }
   ],
   "source": [
    "print(\"\\65\")#corresponding ASCII charecter of the octal value(65),\"\\value\" represent the Octal number."
   ]
  },
  {
   "cell_type": "code",
   "execution_count": 10,
   "id": "4285fb9a",
   "metadata": {},
   "outputs": [
    {
     "name": "stdout",
     "output_type": "stream",
     "text": [
      "e\n"
     ]
    }
   ],
   "source": [
    "print(\"\\x65\")#corresponding ASCII charecter of the Hexadecimal value(65),\"\\x value\" represent the Hexadecimal number."
   ]
  },
  {
   "cell_type": "code",
   "execution_count": 11,
   "id": "eb54abcf",
   "metadata": {},
   "outputs": [
    {
     "name": "stdout",
     "output_type": "stream",
     "text": [
      "Entri\n",
      "2023\n"
     ]
    }
   ],
   "source": [
    "print(\"Entri\", \"2023\",sep=\"\\n\")#create new line in b/w entry and 2023 because use \"sep=\"keyword."
   ]
  },
  {
   "cell_type": "code",
   "execution_count": 12,
   "id": "d45928ec",
   "metadata": {},
   "outputs": [
    {
     "name": "stdout",
     "output_type": "stream",
     "text": [
      "entry\b2023\n"
     ]
    }
   ],
   "source": [
    "print(\"entry\", \"2023\", sep=\"\\b\")#remove the value in b/w entry and 2023 because use \"sep=\"keyword."
   ]
  },
  {
   "cell_type": "code",
   "execution_count": 13,
   "id": "84b42eae",
   "metadata": {},
   "outputs": [
    {
     "name": "stdout",
     "output_type": "stream",
     "text": [
      "Entry*2023\b\b\b\b"
     ]
    }
   ],
   "source": [
    "print(\"Entry\", \"2023\", sep=\"*\",end=\"\\b\\b\\b\\b\")#replace the value b/w entry and 2023 and delete last 4 charecter from last."
   ]
  },
  {
   "cell_type": "markdown",
   "id": "804ecb26",
   "metadata": {},
   "source": [
    "# Exercise 7\n",
    "Define the variables below. Print the types of each variable. What is the sum of your variables? (Hint: use a type conversion function.) What datatype is the sum?\n",
    "num=23\n",
    "textnum=\"57\"\n",
    "decimal=98.3\n"
   ]
  },
  {
   "cell_type": "code",
   "execution_count": 14,
   "id": "7a675b85",
   "metadata": {},
   "outputs": [
    {
     "name": "stdout",
     "output_type": "stream",
     "text": [
      "<class 'int'>\n"
     ]
    }
   ],
   "source": [
    "print(type(23))"
   ]
  },
  {
   "cell_type": "code",
   "execution_count": 15,
   "id": "4257404b",
   "metadata": {},
   "outputs": [
    {
     "name": "stdout",
     "output_type": "stream",
     "text": [
      "<class 'str'>\n"
     ]
    }
   ],
   "source": [
    "print(type(\"57\"))"
   ]
  },
  {
   "cell_type": "code",
   "execution_count": 16,
   "id": "42ba80a6",
   "metadata": {},
   "outputs": [
    {
     "name": "stdout",
     "output_type": "stream",
     "text": [
      "<class 'float'>\n"
     ]
    }
   ],
   "source": [
    "print(type(98.3))"
   ]
  },
  {
   "cell_type": "code",
   "execution_count": 17,
   "id": "880972cf",
   "metadata": {},
   "outputs": [
    {
     "name": "stdout",
     "output_type": "stream",
     "text": [
      "178.3\n"
     ]
    }
   ],
   "source": [
    "a=23    #integer\n",
    "b=\"57\"  #String\n",
    "c=98.3  #float\n",
    "d=int(b) #converted the string into an integer\n",
    "sum=a+d+c\n",
    "print(sum)"
   ]
  },
  {
   "cell_type": "code",
   "execution_count": 18,
   "id": "69072cdd",
   "metadata": {},
   "outputs": [
    {
     "data": {
      "text/plain": [
       "float"
      ]
     },
     "execution_count": 18,
     "metadata": {},
     "output_type": "execute_result"
    }
   ],
   "source": [
    "type(sum)  #sum is float"
   ]
  },
  {
   "cell_type": "markdown",
   "id": "0759dfec",
   "metadata": {},
   "source": [
    "# Exercise 8\n",
    "calculate the number of minutes in a year using variables for each unit of time. print a statement that describes what your code does also. Create three variables to store no of days in a year, minute in a hour, hours in a day, then calculate the total minutes in a year and print the values\n",
    "(hint) total number of minutes in an year =No.of days in an year * Hours in a day * Minutes in an hour"
   ]
  },
  {
   "cell_type": "code",
   "execution_count": 19,
   "id": "8050716b",
   "metadata": {},
   "outputs": [
    {
     "name": "stdout",
     "output_type": "stream",
     "text": [
      "Calender Year :5\n",
      "1-Min per years \n",
      "2-Days per years \n",
      "3-Month per years \n",
      "1\n",
      "Minits in  5 years is: 2628000 min\n"
     ]
    }
   ],
   "source": [
    "year=eval(input(\"Calender Year :\"))\n",
    "opt=eval(input(\"1-Min per years \\n2-Days per years \\n3-Month per years \\n\"))\n",
    "\n",
    "if(opt==1):\n",
    "    \n",
    "    x=year*365*1440 #years*no:of days in a year*minits in a day\n",
    "    print(\"Minits in \",year,\"years is:\",x,\"min\")\n",
    "    \n",
    "elif(opt==2):\n",
    "    \n",
    "    x=year*365\n",
    "    print(\"Days in \",year,\"years is:\",x,\"days\")\n",
    "    \n",
    "else:\n",
    "    x=year*12\n",
    "    print(\"Months in \",year,\"years is:\",x,\"Month\")\n",
    "    \n",
    "    \n",
    "    \n"
   ]
  },
  {
   "cell_type": "markdown",
   "id": "12c1e57b",
   "metadata": {},
   "source": [
    "# Exercise 9\n",
    "Write Python code that asks the user to enter his/her name and then output/prints his/her name with a greeting.\n",
    "An example runs of the program:\n",
    "Please enter you name: Tony\n",
    "Hi Tony, welcome to Python programming :)"
   ]
  },
  {
   "cell_type": "code",
   "execution_count": 20,
   "id": "584e26cc",
   "metadata": {},
   "outputs": [
    {
     "name": "stdout",
     "output_type": "stream",
     "text": [
      "Name: abhilash PR\n",
      "Welcome to the python world abhilash PR\n"
     ]
    }
   ],
   "source": [
    "x=input(\"Name: \")\n",
    "\n",
    "print(\"Welcome to the python world\",x)"
   ]
  },
  {
   "cell_type": "markdown",
   "id": "52c6d856",
   "metadata": {},
   "source": [
    "# Exercise 10\n",
    "Name your file: PoundsToDollars.py\n",
    "Write a program that asks the user to enter an amount in pounds (£) and the program calculates and converts an amount in dollar ($)"
   ]
  },
  {
   "cell_type": "code",
   "execution_count": 21,
   "id": "03129cf7",
   "metadata": {},
   "outputs": [
    {
     "name": "stdout",
     "output_type": "stream",
     "text": [
      "Exchange Rate\n",
      "\n",
      "Choose One:\n",
      "1-pound(UK) to Doller(US)\n",
      "2-Doller(US) to pound(UK)\n",
      "1\n",
      "pound(£): 6\n",
      "Doller($):  7.62\n"
     ]
    }
   ],
   "source": [
    "print(\"Exchange Rate\\n\\nChoose One:\\n1-pound(UK) to Doller(US)\\n2-Doller(US) to pound(UK)\")\n",
    "i=eval(input())\n",
    "\n",
    "if(i==1):\n",
    "    pound=float(input(\"pound(£): \"))\n",
    "    Doller=pound*1.27      #from today market rate 1 pound = 1.27 Doller\n",
    "    print(\"Doller($): \",Doller)\n",
    "else:\n",
    "    Doller=float(input(\"Doller($): \"))\n",
    "    pound=Doller/1.27\n",
    "    print(\"pound(£): \",pound)"
   ]
  },
  {
   "cell_type": "code",
   "execution_count": null,
   "id": "3105f2a7",
   "metadata": {},
   "outputs": [],
   "source": []
  }
 ],
 "metadata": {
  "kernelspec": {
   "display_name": "Python 3 (ipykernel)",
   "language": "python",
   "name": "python3"
  },
  "language_info": {
   "codemirror_mode": {
    "name": "ipython",
    "version": 3
   },
   "file_extension": ".py",
   "mimetype": "text/x-python",
   "name": "python",
   "nbconvert_exporter": "python",
   "pygments_lexer": "ipython3",
   "version": "3.11.5"
  }
 },
 "nbformat": 4,
 "nbformat_minor": 5
}
