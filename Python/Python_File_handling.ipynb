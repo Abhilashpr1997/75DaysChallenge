{
 "cells": [
  {
   "cell_type": "markdown",
   "id": "09190d6a",
   "metadata": {},
   "source": [
    "### File Handling in Python\n",
    "\n",
    "File handling in Python involves interacting with files on a computer's storage system. It allows you to read data from files, write data to files, and perform various operations on file contents."
   ]
  },
  {
   "cell_type": "markdown",
   "id": "b83741b7",
   "metadata": {},
   "source": [
    "### Opening a File:\n",
    "Use the open() function to open a file, specifying the file's name and mode"
   ]
  },
  {
   "cell_type": "markdown",
   "id": "9255e8af",
   "metadata": {},
   "source": [
    "### Reading from a File:\n",
    "Use the read() method to read the entire contents of the file as a string.\n",
    "Use the readline() method to read a single line from the file.\n",
    "Use the readlines() method to read all lines from the file as a list.   \n"
   ]
  },
  {
   "cell_type": "code",
   "execution_count": null,
   "id": "da7f5427",
   "metadata": {},
   "outputs": [],
   "source": [
    "file_object = open('filename.txt', 'r')\n",
    "content = file_object.read()\n",
    "print(content)"
   ]
  },
  {
   "cell_type": "markdown",
   "id": "43232b32",
   "metadata": {},
   "source": [
    "### Writing to a File:\n",
    "Use the write() method to write data to the file.\n",
    "Use the writelines() method to write a list of strings to the file."
   ]
  },
  {
   "cell_type": "code",
   "execution_count": null,
   "id": "a8b5caf8",
   "metadata": {},
   "outputs": [],
   "source": [
    "file_object = open('filename.txt', 'w')\n",
    "file_object.write(\"This is a new line.\\n\")\n",
    "file_object.writelines([\"Another line.\", \"And another line.\"])"
   ]
  },
  {
   "cell_type": "markdown",
   "id": "db3321d2",
   "metadata": {},
   "source": [
    "### Closing a File:\n",
    "Use the close() method to close the file after you're done with it."
   ]
  },
  {
   "cell_type": "markdown",
   "id": "ad1cfa78",
   "metadata": {},
   "source": [
    "### Context Managers (with Statement):\n",
    "Python's with statement provides a more convenient way to handle files, automatically closing them when the block is exited."
   ]
  },
  {
   "cell_type": "code",
   "execution_count": null,
   "id": "f0d7f930",
   "metadata": {},
   "outputs": [],
   "source": [
    "with open('filename.txt', 'r') as file_object:\n",
    "    content = file_object.read()\n",
    "    print(content)"
   ]
  },
  {
   "cell_type": "markdown",
   "id": "5ee7d0e8",
   "metadata": {},
   "source": [
    "### File Modes:\n",
    "'r': Read mode (default)\n",
    "'w': Write mode (creates a new file or overwrites an existing one)\n",
    "'a': Append mode (appends data to the end of an existing file or creates a new one)\n",
    "'r+': Read and write mode\n",
    "'w+': Read and write mode (creates a new file or overwrites an existing one)\n",
    "'a+': Read and write mode (appends data to the end of an existing file or creates a new one)\n",
    "File Encoding:\n",
    "Specify the encoding when opening the file (e.g., open('filename.txt', 'r', encoding='utf-8')) to handle different character sets.\n",
    "Error Handling:\n",
    "Use try-except blocks to handle potential errors like file not found or permission denied."
   ]
  },
  {
   "cell_type": "code",
   "execution_count": null,
   "id": "587ba0db",
   "metadata": {},
   "outputs": [],
   "source": [
    "try:\n",
    "    with open('data.txt', 'r') as file_object:\n",
    "        data = file_object.readlines()\n",
    "        for line in data:\n",
    "            print(line.strip())\n",
    "except FileNotFoundError:\n",
    "    print(\"File not found.\")"
   ]
  },
  {
   "cell_type": "code",
   "execution_count": null,
   "id": "2c569cb6",
   "metadata": {},
   "outputs": [],
   "source": []
  }
 ],
 "metadata": {
  "kernelspec": {
   "display_name": "Python 3 (ipykernel)",
   "language": "python",
   "name": "python3"
  },
  "language_info": {
   "codemirror_mode": {
    "name": "ipython",
    "version": 3
   },
   "file_extension": ".py",
   "mimetype": "text/x-python",
   "name": "python",
   "nbconvert_exporter": "python",
   "pygments_lexer": "ipython3",
   "version": "3.11.5"
  }
 },
 "nbformat": 4,
 "nbformat_minor": 5
}
